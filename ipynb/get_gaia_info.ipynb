{
 "cells": [
  {
   "cell_type": "code",
   "execution_count": 73,
   "id": "b91fbb7b",
   "metadata": {},
   "outputs": [
    {
     "name": "stdout",
     "output_type": "stream",
     "text": [
      "INFO: Query finished. [astroquery.utils.tap.core]\n",
      "           source_id      gabs     bp_rp  phot_g_mean_mag  parallax  \\\n",
      "0  50142819765290624  6.087695  1.326451        15.629028  1.235189   \n",
      "1  50863824515223936  7.092981  1.597596        15.679292  1.917511   \n",
      "\n",
      "  phot_variable_flag  teff_gspphot  \n",
      "0      NOT_AVAILABLE   5324.522949  \n",
      "1      NOT_AVAILABLE           NaN  \n"
     ]
    }
   ],
   "source": [
    "from astroquery.gaia import Gaia\n",
    "import pandas as pd\n",
    "import numpy as np\n",
    "import matplotlib.pyplot as plt\n",
    "\n",
    "def GetGAIAData(GaiaDR3SourceIDs, FolderForLocalStorage):\n",
    "    # gets the GAIA data for the provided GaiaDR2SourceIDs's\n",
    "    # and writes to a local CSV\n",
    "        \n",
    "    dfGaia = pd.DataFrame()\n",
    "    \n",
    "    #job = Gaia.launch_job_async( \"select top 100 * from gaiadr2.gaia_source where parallax>0 and parallax_over_error>3. \") # Select `good' parallaxes\n",
    "    qry = \"SELECT * FROM gaiadr3.gaia_source gs WHERE gs.source_id in (\" + GaiaDR3SourceIDs + \");\"\n",
    "    \n",
    "    job = Gaia.launch_job_async( qry )\n",
    "    tblGaia = job.get_results()       #Astropy table\n",
    "    dfGaia = tblGaia.to_pandas()      #convert to Pandas dataframe\n",
    "    \n",
    "    npGAIARecords = dfGaia.to_numpy() #convert to numpy array    \n",
    "    lstGAIARecords = [list(x) for x in npGAIARecords]   #convert to List[]\n",
    "    \n",
    "    FileForLocalStorage = FolderForLocalStorage + str(lstGAIARecords[0][2]) + '.csv'  # use SourceID from 1st record\n",
    "    dfGaia.to_csv (FileForLocalStorage, index = False, header=True) \n",
    "    \n",
    "    column = [\"source_id\", \"phot_g_mean_mag\", \"bp_rp\", \"parallax\", \"phot_variable_flag\", \"teff_gspphot\"]\n",
    "    column_new = [\"source_id\", \"gabs\", \"bp_rp\", \"phot_g_mean_mag\",  \"parallax\", \"phot_variable_flag\", \"teff_gspphot\", ]\n",
    "    df[\"gabs\"] = df[\"phot_g_mean_mag\"] + 5 * np.log10(df[\"parallax\"])-10.0\n",
    "    df_out = df[column_new ]    \n",
    "    \n",
    "    return df_out\n",
    "def make_gaiaid_str(gaia_ids):\n",
    "    str_now = \"\"\n",
    "    for (i, gaia_id) in enumerate(gaia_ids):\n",
    "        if i==len(gaia_ids)-1:\n",
    "            str_now += str(gaia_id) \n",
    "        else:\n",
    "            str_now += str(gaia_id) + \", \"\n",
    "\n",
    "    return str_now\n",
    "\n",
    "gaia_ids = make_gaiaid_str([50863824515223936, 50142819765290624])\n",
    "df = GetGAIAData(gaia_ids, \"./\")\n",
    "print(df)\n",
    "\n",
    "\n"
   ]
  },
  {
   "cell_type": "code",
   "execution_count": null,
   "id": "b343720f",
   "metadata": {},
   "outputs": [],
   "source": []
  }
 ],
 "metadata": {
  "kernelspec": {
   "display_name": "Python 3",
   "language": "python",
   "name": "python3"
  },
  "language_info": {
   "codemirror_mode": {
    "name": "ipython",
    "version": 3
   },
   "file_extension": ".py",
   "mimetype": "text/x-python",
   "name": "python",
   "nbconvert_exporter": "python",
   "pygments_lexer": "ipython3",
   "version": "3.8.13"
  }
 },
 "nbformat": 4,
 "nbformat_minor": 5
}
